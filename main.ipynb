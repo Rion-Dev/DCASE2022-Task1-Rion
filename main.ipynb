{
 "cells": [
  {
   "cell_type": "code",
   "execution_count": 1,
   "id": "3416deda-3e29-4ba3-bef0-5cd8d3b057d7",
   "metadata": {},
   "outputs": [],
   "source": [
    "from config_submit1 import * #Set the configuration file name\n",
    "conf = config()"
   ]
  },
  {
   "cell_type": "code",
   "execution_count": 2,
   "id": "7fbcbed2-f5cf-4bc8-9b68-23a9781dfc88",
   "metadata": {
    "executionInfo": {
     "elapsed": 29,
     "status": "ok",
     "timestamp": 1650698654993,
     "user": {
      "displayName": "菅原鈴子",
      "userId": "12440335609445143768"
     },
     "user_tz": -540
    },
    "id": "7fbcbed2-f5cf-4bc8-9b68-23a9781dfc88"
   },
   "outputs": [
    {
     "name": "stderr",
     "output_type": "stream",
     "text": [
      "/usr/local/lib/python3.8/dist-packages/tqdm/auto.py:22: TqdmWarning: IProgress not found. Please update jupyter and ipywidgets. See https://ipywidgets.readthedocs.io/en/stable/user_install.html\n",
      "  from .autonotebook import tqdm as notebook_tqdm\n"
     ]
    }
   ],
   "source": [
    "import copy\n",
    "import random\n",
    "\n",
    "from IPython.display import clear_output\n",
    "from livelossplot import PlotLosses\n",
    "import matplotlib.pyplot as plt\n",
    "import numpy as np\n",
    "import pandas as pd\n",
    "from sklearn.metrics import confusion_matrix\n",
    "import seaborn as sns\n",
    "import timm\n",
    "from timm.scheduler import CosineLRScheduler\n",
    "import torch\n",
    "from torch import nn\n",
    "import torchaudio\n",
    "import torchaudio.transforms as T\n",
    "from torchinfo import summary\n",
    "from torchlibrosa.augmentation import SpecAugmentation \n",
    "from torch.utils.data import DataLoader, Dataset\n",
    "from torchvision import datasets\n",
    "from torchvision.transforms import ToTensor\n",
    "from tqdm import tqdm\n",
    "\n",
    "import NeSsi.nessi as nessi\n",
    "from pcgrad import PCGrad"
   ]
  },
  {
   "cell_type": "code",
   "execution_count": 3,
   "id": "cc31cf83-bea8-4203-83d3-5f0ccdd38394",
   "metadata": {
    "colab": {
     "base_uri": "https://localhost:8080/"
    },
    "executionInfo": {
     "elapsed": 0,
     "status": "ok",
     "timestamp": 1650698655062,
     "user": {
      "displayName": "菅原鈴子",
      "userId": "12440335609445143768"
     },
     "user_tz": -540
    },
    "id": "cc31cf83-bea8-4203-83d3-5f0ccdd38394",
    "outputId": "f30a38c1-8f36-4ff4-a5d5-2fd41d61e84c"
   },
   "outputs": [
    {
     "name": "stdout",
     "output_type": "stream",
     "text": [
      "Using cuda device\n"
     ]
    }
   ],
   "source": [
    "device=\"cuda\" if torch.cuda.is_available() else \"cpu\"\n",
    "print(f\"Using {device} device\")"
   ]
  },
  {
   "cell_type": "code",
   "execution_count": 4,
   "id": "73bcac79-7e9c-4d9b-8730-73fb1430411f",
   "metadata": {
    "executionInfo": {
     "elapsed": 35,
     "status": "ok",
     "timestamp": 1650698655000,
     "user": {
      "displayName": "菅原鈴子",
      "userId": "12440335609445143768"
     },
     "user_tz": -540
    },
    "id": "73bcac79-7e9c-4d9b-8730-73fb1430411f"
   },
   "outputs": [],
   "source": [
    "root_path = \"../TAU-urban-acoustic-scenes-2022-mobile-development/\"\n",
    "setup_path = root_path + \"evaluation_setup/\""
   ]
  },
  {
   "cell_type": "markdown",
   "id": "ff0d761a-94a6-4696-8461-e243ac057aef",
   "metadata": {
    "id": "ff0d761a-94a6-4696-8461-e243ac057aef"
   },
   "source": [
    "## checking csv data"
   ]
  },
  {
   "cell_type": "code",
   "execution_count": 5,
   "id": "952fd4ae-166b-44c7-acfa-219429a61e34",
   "metadata": {
    "executionInfo": {
     "elapsed": 38,
     "status": "ok",
     "timestamp": 1650698655002,
     "user": {
      "displayName": "菅原鈴子",
      "userId": "12440335609445143768"
     },
     "user_tz": -540
    },
    "id": "952fd4ae-166b-44c7-acfa-219429a61e34"
   },
   "outputs": [],
   "source": [
    "train_csv = pd.read_table(setup_path + \"fold1_train.csv\")\n",
    "val_csv = pd.read_table(setup_path + \"fold1_evaluate.csv\")\n",
    "test_csv = pd.read_table(setup_path + \"fold1_test.csv\")"
   ]
  },
  {
   "cell_type": "code",
   "execution_count": 6,
   "id": "cb80ba4d-07f2-418b-b387-1997878bd294",
   "metadata": {
    "colab": {
     "base_uri": "https://localhost:8080/",
     "height": 584
    },
    "executionInfo": {
     "elapsed": 0,
     "status": "ok",
     "timestamp": 1650698655135,
     "user": {
      "displayName": "菅原鈴子",
      "userId": "12440335609445143768"
     },
     "user_tz": -540
    },
    "id": "cb80ba4d-07f2-418b-b387-1997878bd294",
    "outputId": "86189899-88bf-40e4-e642-d6d1a2a3116c"
   },
   "outputs": [
    {
     "data": {
      "text/html": [
       "<div>\n",
       "<style scoped>\n",
       "    .dataframe tbody tr th:only-of-type {\n",
       "        vertical-align: middle;\n",
       "    }\n",
       "\n",
       "    .dataframe tbody tr th {\n",
       "        vertical-align: top;\n",
       "    }\n",
       "\n",
       "    .dataframe thead th {\n",
       "        text-align: right;\n",
       "    }\n",
       "</style>\n",
       "<table border=\"1\" class=\"dataframe\">\n",
       "  <thead>\n",
       "    <tr style=\"text-align: right;\">\n",
       "      <th></th>\n",
       "      <th>filename</th>\n",
       "      <th>scene_label</th>\n",
       "    </tr>\n",
       "  </thead>\n",
       "  <tbody>\n",
       "    <tr>\n",
       "      <th>0</th>\n",
       "      <td>audio/airport-lisbon-1000-40000-0-a.wav</td>\n",
       "      <td>airport</td>\n",
       "    </tr>\n",
       "    <tr>\n",
       "      <th>1</th>\n",
       "      <td>audio/airport-lisbon-1000-40000-1-a.wav</td>\n",
       "      <td>airport</td>\n",
       "    </tr>\n",
       "    <tr>\n",
       "      <th>2</th>\n",
       "      <td>audio/airport-lisbon-1000-40000-2-a.wav</td>\n",
       "      <td>airport</td>\n",
       "    </tr>\n",
       "    <tr>\n",
       "      <th>3</th>\n",
       "      <td>audio/airport-lisbon-1000-40000-3-a.wav</td>\n",
       "      <td>airport</td>\n",
       "    </tr>\n",
       "    <tr>\n",
       "      <th>4</th>\n",
       "      <td>audio/airport-lisbon-1000-40000-4-a.wav</td>\n",
       "      <td>airport</td>\n",
       "    </tr>\n",
       "  </tbody>\n",
       "</table>\n",
       "</div>"
      ],
      "text/plain": [
       "                                  filename scene_label\n",
       "0  audio/airport-lisbon-1000-40000-0-a.wav     airport\n",
       "1  audio/airport-lisbon-1000-40000-1-a.wav     airport\n",
       "2  audio/airport-lisbon-1000-40000-2-a.wav     airport\n",
       "3  audio/airport-lisbon-1000-40000-3-a.wav     airport\n",
       "4  audio/airport-lisbon-1000-40000-4-a.wav     airport"
      ]
     },
     "metadata": {},
     "output_type": "display_data"
    },
    {
     "data": {
      "text/html": [
       "<div>\n",
       "<style scoped>\n",
       "    .dataframe tbody tr th:only-of-type {\n",
       "        vertical-align: middle;\n",
       "    }\n",
       "\n",
       "    .dataframe tbody tr th {\n",
       "        vertical-align: top;\n",
       "    }\n",
       "\n",
       "    .dataframe thead th {\n",
       "        text-align: right;\n",
       "    }\n",
       "</style>\n",
       "<table border=\"1\" class=\"dataframe\">\n",
       "  <thead>\n",
       "    <tr style=\"text-align: right;\">\n",
       "      <th></th>\n",
       "      <th>filename</th>\n",
       "      <th>scene_label</th>\n",
       "    </tr>\n",
       "  </thead>\n",
       "  <tbody>\n",
       "    <tr>\n",
       "      <th>0</th>\n",
       "      <td>audio/airport-barcelona-203-6129-0-a.wav</td>\n",
       "      <td>airport</td>\n",
       "    </tr>\n",
       "    <tr>\n",
       "      <th>1</th>\n",
       "      <td>audio/airport-barcelona-203-6129-1-a.wav</td>\n",
       "      <td>airport</td>\n",
       "    </tr>\n",
       "    <tr>\n",
       "      <th>2</th>\n",
       "      <td>audio/airport-barcelona-203-6129-2-a.wav</td>\n",
       "      <td>airport</td>\n",
       "    </tr>\n",
       "    <tr>\n",
       "      <th>3</th>\n",
       "      <td>audio/airport-barcelona-203-6129-3-a.wav</td>\n",
       "      <td>airport</td>\n",
       "    </tr>\n",
       "    <tr>\n",
       "      <th>4</th>\n",
       "      <td>audio/airport-barcelona-203-6129-4-a.wav</td>\n",
       "      <td>airport</td>\n",
       "    </tr>\n",
       "  </tbody>\n",
       "</table>\n",
       "</div>"
      ],
      "text/plain": [
       "                                   filename scene_label\n",
       "0  audio/airport-barcelona-203-6129-0-a.wav     airport\n",
       "1  audio/airport-barcelona-203-6129-1-a.wav     airport\n",
       "2  audio/airport-barcelona-203-6129-2-a.wav     airport\n",
       "3  audio/airport-barcelona-203-6129-3-a.wav     airport\n",
       "4  audio/airport-barcelona-203-6129-4-a.wav     airport"
      ]
     },
     "metadata": {},
     "output_type": "display_data"
    },
    {
     "data": {
      "text/html": [
       "<div>\n",
       "<style scoped>\n",
       "    .dataframe tbody tr th:only-of-type {\n",
       "        vertical-align: middle;\n",
       "    }\n",
       "\n",
       "    .dataframe tbody tr th {\n",
       "        vertical-align: top;\n",
       "    }\n",
       "\n",
       "    .dataframe thead th {\n",
       "        text-align: right;\n",
       "    }\n",
       "</style>\n",
       "<table border=\"1\" class=\"dataframe\">\n",
       "  <thead>\n",
       "    <tr style=\"text-align: right;\">\n",
       "      <th></th>\n",
       "      <th>filename</th>\n",
       "    </tr>\n",
       "  </thead>\n",
       "  <tbody>\n",
       "    <tr>\n",
       "      <th>0</th>\n",
       "      <td>audio/airport-barcelona-203-6129-0-a.wav</td>\n",
       "    </tr>\n",
       "    <tr>\n",
       "      <th>1</th>\n",
       "      <td>audio/airport-barcelona-203-6129-1-a.wav</td>\n",
       "    </tr>\n",
       "    <tr>\n",
       "      <th>2</th>\n",
       "      <td>audio/airport-barcelona-203-6129-2-a.wav</td>\n",
       "    </tr>\n",
       "    <tr>\n",
       "      <th>3</th>\n",
       "      <td>audio/airport-barcelona-203-6129-3-a.wav</td>\n",
       "    </tr>\n",
       "    <tr>\n",
       "      <th>4</th>\n",
       "      <td>audio/airport-barcelona-203-6129-4-a.wav</td>\n",
       "    </tr>\n",
       "  </tbody>\n",
       "</table>\n",
       "</div>"
      ],
      "text/plain": [
       "                                   filename\n",
       "0  audio/airport-barcelona-203-6129-0-a.wav\n",
       "1  audio/airport-barcelona-203-6129-1-a.wav\n",
       "2  audio/airport-barcelona-203-6129-2-a.wav\n",
       "3  audio/airport-barcelona-203-6129-3-a.wav\n",
       "4  audio/airport-barcelona-203-6129-4-a.wav"
      ]
     },
     "metadata": {},
     "output_type": "display_data"
    }
   ],
   "source": [
    "display(train_csv.head())\n",
    "display(val_csv.head())\n",
    "display(test_csv.head())"
   ]
  },
  {
   "cell_type": "markdown",
   "id": "c9e1b8dc-e71f-4fd3-abd1-16abed1cac1d",
   "metadata": {
    "id": "c9e1b8dc-e71f-4fd3-abd1-16abed1cac1d"
   },
   "source": [
    "## Checking label"
   ]
  },
  {
   "cell_type": "markdown",
   "id": "1f07fdbe-b11c-433f-9a77-d79b42338407",
   "metadata": {
    "id": "1f07fdbe-b11c-433f-9a77-d79b42338407"
   },
   "source": [
    "#### Training data"
   ]
  },
  {
   "cell_type": "code",
   "execution_count": 7,
   "id": "4f24a926-4fc8-498f-9549-d647aa510491",
   "metadata": {
    "colab": {
     "base_uri": "https://localhost:8080/",
     "height": 343
    },
    "executionInfo": {
     "elapsed": 0,
     "status": "ok",
     "timestamp": 1650698655164,
     "user": {
      "displayName": "菅原鈴子",
      "userId": "12440335609445143768"
     },
     "user_tz": -540
    },
    "id": "4f24a926-4fc8-498f-9549-d647aa510491",
    "outputId": "7ca3b587-1408-4430-cc7b-3d26f01aa9f2"
   },
   "outputs": [
    {
     "data": {
      "image/png": "[encoded data removed]",
      "text/plain": [
       "<Figure size 432x288 with 1 Axes>"
      ]
     },
     "metadata": {
      "needs_background": "light"
     },
     "output_type": "display_data"
    }
   ],
   "source": [
    "train_csv[\"scene_label\"].value_counts(sort=False).plot.bar();"
   ]
  },
  {
   "cell_type": "markdown",
   "id": "4647b56c-ff61-43fc-9421-8bdbfc01d741",
   "metadata": {
    "id": "4647b56c-ff61-43fc-9421-8bdbfc01d741"
   },
   "source": [
    "#### Validation data"
   ]
  },
  {
   "cell_type": "code",
   "execution_count": 8,
   "id": "63b5a965-61b1-4409-9c25-010993af0191",
   "metadata": {
    "colab": {
     "base_uri": "https://localhost:8080/",
     "height": 343
    },
    "executionInfo": {
     "elapsed": 42,
     "status": "ok",
     "timestamp": 1650698655007,
     "user": {
      "displayName": "菅原鈴子",
      "userId": "12440335609445143768"
     },
     "user_tz": -540
    },
    "id": "63b5a965-61b1-4409-9c25-010993af0191",
    "outputId": "049fbec4-ea24-4ed7-f5c4-a1d5a7742314"
   },
   "outputs": [
    {
     "data": {
      "image/png": "[encoded data removed]",
      "text/plain": [
       "<Figure size 432x288 with 1 Axes>"
      ]
     },
     "metadata": {
      "needs_background": "light"
     },
     "output_type": "display_data"
    }
   ],
   "source": [
    "val_csv[\"scene_label\"].value_counts(sort=False).plot.bar();"
   ]
  },
  {
   "cell_type": "code",
   "execution_count": 9,
   "id": "0db517e3-be47-4f10-80b7-2945f2071ac5",
   "metadata": {
    "colab": {
     "base_uri": "https://localhost:8080/"
    },
    "executionInfo": {
     "elapsed": 41,
     "status": "ok",
     "timestamp": 1650698655007,
     "user": {
      "displayName": "菅原鈴子",
      "userId": "12440335609445143768"
     },
     "user_tz": -540
    },
    "id": "0db517e3-be47-4f10-80b7-2945f2071ac5",
    "outputId": "9013f91c-d197-4554-fd9a-a3020b96737a"
   },
   "outputs": [
    {
     "name": "stdout",
     "output_type": "stream",
     "text": [
      "['airport' 'bus' 'metro' 'metro_station' 'park' 'public_square'\n",
      " 'shopping_mall' 'street_pedestrian' 'street_traffic' 'tram']\n"
     ]
    }
   ],
   "source": [
    "label_list = train_csv[\"scene_label\"].unique()\n",
    "print(label_list)"
   ]
  },
  {
   "cell_type": "code",
   "execution_count": 10,
   "id": "3ac353c9-45fb-46eb-8b46-ec66b62aacaf",
   "metadata": {
    "colab": {
     "base_uri": "https://localhost:8080/"
    },
    "executionInfo": {
     "elapsed": 26,
     "status": "ok",
     "timestamp": 1650698655008,
     "user": {
      "displayName": "菅原鈴子",
      "userId": "12440335609445143768"
     },
     "user_tz": -540
    },
    "id": "3ac353c9-45fb-46eb-8b46-ec66b62aacaf",
    "outputId": "56a0ab94-f644-47d7-d375-3ed3719f3694"
   },
   "outputs": [
    {
     "name": "stdout",
     "output_type": "stream",
     "text": [
      "['a', 'b', 'c', 's1', 's2', 's3', 's4', 's5', 's6']\n"
     ]
    }
   ],
   "source": [
    "devices = ([\n",
    "        \"a\",\n",
    "        \"b\",\n",
    "        \"c\",\n",
    "        \"s1\",\n",
    "        \"s2\",\n",
    "        \"s3\",\n",
    "        \"s4\",\n",
    "        \"s5\",\n",
    "        \"s6\"\n",
    "    ])\n",
    "print(devices)"
   ]
  },
  {
   "cell_type": "markdown",
   "id": "873c32ca-b30b-4410-a98d-9909dd3dba72",
   "metadata": {
    "id": "873c32ca-b30b-4410-a98d-9909dd3dba72"
   },
   "source": [
    "## Wav to MelSpectrogram"
   ]
  },
  {
   "cell_type": "code",
   "execution_count": 11,
   "id": "99d76592-b49a-4401-bd7e-b82ce2adbe23",
   "metadata": {
    "executionInfo": {
     "elapsed": 20,
     "status": "ok",
     "timestamp": 1650698655011,
     "user": {
      "displayName": "菅原鈴子",
      "userId": "12440335609445143768"
     },
     "user_tz": -540
    },
    "id": "99d76592-b49a-4401-bd7e-b82ce2adbe23"
   },
   "outputs": [],
   "source": [
    "mel_spectrogram = T.MelSpectrogram(\n",
    "    sample_rate=conf.sample_rate,\n",
    "    n_fft=conf.n_fft,\n",
    "    win_length=conf.win_length,\n",
    "    hop_length=conf.hop_length,\n",
    "    center=True,\n",
    "    pad_mode=\"reflect\",\n",
    "    power=2.0,\n",
    "    norm=\"slaney\",\n",
    "    onesided=True,\n",
    "    n_mels=conf.n_mels,\n",
    "    mel_scale=\"htk\",\n",
    ")"
   ]
  },
  {
   "cell_type": "code",
   "execution_count": 12,
   "id": "b7dc13f5-2431-4eab-a9d5-7e81df761290",
   "metadata": {
    "executionInfo": {
     "elapsed": 516,
     "status": "ok",
     "timestamp": 1650698670162,
     "user": {
      "displayName": "菅原鈴子",
      "userId": "12440335609445143768"
     },
     "user_tz": -540
    },
    "id": "b7dc13f5-2431-4eab-a9d5-7e81df761290"
   },
   "outputs": [],
   "source": [
    "\n",
    "def wav_to_mel_log10(filepath):\n",
    "    wave, _ = torchaudio.load(filepath)\n",
    "    return torch.log10(mel_spectrogram(wave) + 1e-10)\n",
    "\n",
    "\n",
    "def normalize_std(melspec):\n",
    "    return (melspec-torch.mean(melspec, dim=(2,3), keepdim=True)) / torch.std(melspec, dim=(2,3), keepdim=True)\n",
    "\n",
    "\n",
    "def label_to_onehot(scene_label, label_list):\n",
    "    label_temp = torch.zeros(label_list.shape)\n",
    "    label_temp[label_list==scene_label] = 1\n",
    "    return label_temp\n",
    "\n",
    "\n",
    "def get_devices_no(filename, devices):\n",
    "    return devices.index(filename.split('-')[-1][:-4])\n",
    "\n",
    "\n",
    "def label_for_multi(y):\n",
    "    multi_y = np.zeros((y.shape[0],3))\n",
    "    for i in range(y.shape[0]):\n",
    "        if np.argmax(y[i,:])==0 or np.argmax(y[i,:])==3 or np.argmax(y[i,:])==6: #Indoor\n",
    "            multi_y[i,0] = 1\n",
    "        elif np.argmax(y[i,:])==4 or np.argmax(y[i,:])==5 or np.argmax(y[i,:])==7 or np.argmax(y[i,:])==8: #Outdoor\n",
    "            multi_y[i,1] = 1\n",
    "        else:\n",
    "            multi_y[i,2] = 1 #Transportation\n",
    "    return multi_y\n",
    "\n",
    "\n",
    "def plot_spectrogram(spec, title=None, ylabel=\"freq_bin\", aspect=\"auto\", xmax=None):\n",
    "    fig, axs = plt.subplots(1, 1)\n",
    "    axs.set_title(title or \"Spectrogram (db)\")\n",
    "    axs.set_ylabel(ylabel)\n",
    "    axs.set_xlabel(\"frame\")\n",
    "    im = axs.imshow((spec), origin=\"lower\", aspect=aspect)\n",
    "    if xmax:\n",
    "        axs.set_xlim((0, xmax))\n",
    "    fig.colorbar(im, ax=axs)\n",
    "    plt.show(block=False)\n",
    "    \n",
    "    \n",
    "def plot_confusion_matrix(true, predicted):\n",
    "    cm = confusion_matrix(true, predicted, normalize=\"true\")\n",
    "    fig, ax = plt.subplots(figsize = (10,10))\n",
    "    sns.heatmap(cm, square=True, cbar=False, annot=True, cmap=\"Blues\")\n",
    "    ax.set_xticklabels(label_list, rotation=90) \n",
    "    ax.set_yticklabels(label_list, rotation=0) \n",
    "    plt.xlabel(\"True label\")\n",
    "    plt.ylabel(\"Predicted label\")\n",
    "    \n",
    "    \n",
    "def plot_device_wise_log_losses(loss_all, predicted_all, train_val_y, train_val_devices, devices):\n",
    "    results_table = np.zeros((11, len(devices)+2))\n",
    "\n",
    "    for label_id, _ in enumerate(label_list):\n",
    "        label_indx = (train_val_y[:,label_id]==1)\n",
    "        results_table[label_id, len(devices)+1] = (predicted_all[label_indx]==label_id).sum()/label_indx.sum()*100\n",
    "        results_table[label_id, 0] = loss_all[label_indx].mean()\n",
    "\n",
    "        for device_id, _ in enumerate(devices):\n",
    "            device_indx = np.array(train_val_devices)==device_id\n",
    "            device_wise_indx = np.array(label_indx)*(device_indx)\n",
    "            results_table[label_id, device_id + 1] = loss_all[device_wise_indx].mean()\n",
    "            results_table[10, device_id+1] = loss_all[device_indx].mean()\n",
    "\n",
    "    results_table[10, len(devices)+1] = (predicted_all == torch.argmax(train_val_y, dim=1).clone().numpy()).sum()/len(predicted_all)*100\n",
    "    results_table[10, 0] = loss_all.mean()\n",
    "\n",
    "    df_results = pd.DataFrame(results_table, columns=[\"Log Loss\", *devices, \"Accuracy %\"], index=[ *label_list, \"Ovberall\"])    \n",
    "    display(df_results)  "
   ]
  },
  {
   "cell_type": "markdown",
   "id": "b1a147e7-2a4b-48de-aa2d-ed13ec3b51d8",
   "metadata": {
    "id": "b1a147e7-2a4b-48de-aa2d-ed13ec3b51d8"
   },
   "source": [
    "## preprosessing\n",
    "#### training data"
   ]
  },
  {
   "cell_type": "code",
   "execution_count": 13,
   "id": "be27d4f5-5c09-4ae7-a421-cd9a70307fc3",
   "metadata": {
    "colab": {
     "base_uri": "https://localhost:8080/",
     "height": 377
    },
    "executionInfo": {
     "elapsed": 263,
     "status": "error",
     "timestamp": 1650698743605,
     "user": {
      "displayName": "菅原鈴子",
      "userId": "12440335609445143768"
     },
     "user_tz": -540
    },
    "id": "be27d4f5-5c09-4ae7-a421-cd9a70307fc3",
    "outputId": "c95f91f6-3e6f-4779-bdbb-fb4469e6f2f7"
   },
   "outputs": [
    {
     "name": "stdout",
     "output_type": "stream",
     "text": [
      "torch.Size([139620, 1, 256, 44])\n"
     ]
    }
   ],
   "source": [
    "if conf.reuse:\n",
    "    train_X = np.load(f\"reuse/{conf.reusefolder}train_X.npy\")\n",
    "    train_X = torch.from_numpy(train_X.astype(np.float32)).clone()\n",
    "    train_y = np.load(f\"reuse/{conf.reusefolder}train_y.npy\")\n",
    "    train_y = torch.from_numpy(train_y.astype(np.float32)).clone()\n",
    "    train_y_3class = np.load(f\"reuse/{conf.reusefolder}train_y_3class.npy\")\n",
    "    train_y_3class = torch.from_numpy(train_y_3class.astype(np.float32)).clone()\n",
    "    train_devices = np.load(f\"reuse/{conf.reusefolder}train_devices.npy\")\n",
    "else:\n",
    "    train_X = []\n",
    "    train_y = []\n",
    "    train_devices = []\n",
    "\n",
    "    for filename, scene_label in zip(tqdm(train_csv['filename']), train_csv['scene_label']):\n",
    "        train_X.append(wav_to_mel_log10(root_path + filename))\n",
    "        \n",
    "        train_y.append(label_to_onehot(scene_label, label_list))\n",
    "        train_devices.append(get_devices_no(filename, devices))\n",
    "\n",
    "    train_X = torch.stack(train_X)   \n",
    "    train_y = torch.stack(train_y)  \n",
    "    \n",
    "    train_y_3class = label_for_multi(train_y)\n",
    "    train_y_3class = torch.from_numpy(train_y_3class.astype(np.float32)).clone()\n",
    "    \n",
    "    np.save(f\"reuse/{conf.reusefolder}train_X.npy\", train_X)\n",
    "    np.save(f\"reuse/{conf.reusefolder}train_y.npy\", train_y)\n",
    "    np.save(f\"reuse/{conf.reusefolder}train_y_3class.npy\", train_y_3class)\n",
    "    np.save(f\"reuse/{conf.reusefolder}train_devices.npy\", train_devices)\n",
    "\n",
    "print(train_X.shape)"
   ]
  },
  {
   "cell_type": "markdown",
   "id": "c18783a8-e35f-41a4-bed1-841e1e21dda7",
   "metadata": {
    "id": "c18783a8-e35f-41a4-bed1-841e1e21dda7"
   },
   "source": [
    "#### Validation data"
   ]
  },
  {
   "cell_type": "code",
   "execution_count": 14,
   "id": "41845a17-b3b3-44c5-81c2-b390781ff63f",
   "metadata": {
    "colab": {
     "base_uri": "https://localhost:8080/",
     "height": 377
    },
    "executionInfo": {
     "elapsed": 540,
     "status": "error",
     "timestamp": 1650698751193,
     "user": {
      "displayName": "菅原鈴子",
      "userId": "12440335609445143768"
     },
     "user_tz": -540
    },
    "id": "41845a17-b3b3-44c5-81c2-b390781ff63f",
    "outputId": "fc69e914-8992-4946-e530-e93b5d25e227"
   },
   "outputs": [],
   "source": [
    "if conf.reuse:\n",
    "    val_X = np.load(f\"reuse/{conf.reusefolder}val_X.npy\")\n",
    "    val_X = torch.from_numpy(val_X.astype(np.float32)).clone()\n",
    "    val_y = np.load(f\"reuse/{conf.reusefolder}val_y.npy\")\n",
    "    val_y = torch.from_numpy(val_y.astype(np.float32)).clone()\n",
    "    val_y_3class = np.load(f\"reuse/{conf.reusefolder}val_y_3class.npy\")\n",
    "    val_y_3class = torch.from_numpy(val_y_3class.astype(np.float32)).clone()\n",
    "    val_devices = np.load(f\"reuse/{conf.reusefolder}val_devices.npy\")\n",
    "else:\n",
    "    val_X = []\n",
    "    val_y = []\n",
    "    val_devices = []\n",
    "\n",
    "    for filename, scene_label in zip(tqdm(val_csv[\"filename\"]), val_csv[\"scene_label\"]):\n",
    "        mel_spec = wav_to_mel_log10(root_path + filename)\n",
    "        val_X.append(mel_spec)\n",
    "        val_y.append(label_to_onehot(scene_label, label_list))\n",
    "        val_devices.append(get_devices_no(filename, devices))\n",
    "\n",
    "    val_X = torch.stack(val_X)\n",
    "    val_y = torch.stack(val_y)   \n",
    "\n",
    "    val_y_3class = label_for_multi(val_y)\n",
    "    val_y_3class = torch.from_numpy(val_y_3class.astype(np.float32)).clone()\n",
    "    \n",
    "    np.save(f\"reuse/{conf.reusefolder}val_X.npy\", val_X)\n",
    "    np.save(f\"reuse/{conf.reusefolder}val_y.npy\", val_y)\n",
    "    np.save(f\"reuse/{conf.reusefolder}val_y_3class.npy\", val_y_3class)\n",
    "    np.save(f\"reuse/{conf.reusefolder}val_devices.npy\", val_devices)"
   ]
  },
  {
   "cell_type": "code",
   "execution_count": 15,
   "id": "621cabea-079c-4ae2-997e-85608a29f317",
   "metadata": {},
   "outputs": [],
   "source": [
    "if conf.include_val:\n",
    "    train_X = torch.cat((train_X, val_X), 0)\n",
    "    train_y = torch.cat((train_y, val_y), 0)\n",
    "    train_y_3class = torch.cat((train_y_3class, val_y_3class), 0)\n",
    "    train_devices = np.concatenate((train_devices, val_devices), 0)\n",
    "\n",
    "val_X = normalize_std(val_X)"
   ]
  },
  {
   "cell_type": "code",
   "execution_count": 16,
   "id": "fa45213d-220e-4abf-9304-96ca86a3caa7",
   "metadata": {},
   "outputs": [],
   "source": [
    "ComputeDeltas = torchaudio.transforms.ComputeDeltas(win_length= 5)\n",
    "val_X2 = ComputeDeltas(val_X)\n",
    "val_X2 = normalize_std(val_X2)\n",
    "val_X = torch.cat((val_X,val_X2), 1)"
   ]
  },
  {
   "cell_type": "code",
   "execution_count": 17,
   "id": "cdc5f066-3fc7-4dd8-a51e-284a68f1101a",
   "metadata": {
    "id": "cdc5f066-3fc7-4dd8-a51e-284a68f1101a"
   },
   "outputs": [],
   "source": [
    "# Create data loaders.\n",
    "train_dataset = torch.utils.data.TensorDataset(train_X, train_y, train_y_3class)\n",
    "val_dataset = torch.utils.data.TensorDataset(val_X, val_y, val_y_3class)\n",
    "train_dataloader = DataLoader(train_dataset, batch_size=conf.batch_size, shuffle=True, num_workers=2)\n",
    "val_dataloader = DataLoader(val_dataset, batch_size=conf.batch_size, shuffle=True, num_workers=2)"
   ]
  },
  {
   "cell_type": "code",
   "execution_count": 18,
   "id": "a103e9c2-2950-4cdc-acac-631743a583a1",
   "metadata": {
    "id": "a103e9c2-2950-4cdc-acac-631743a583a1",
    "outputId": "e6704378-35fb-4edc-9bf6-e2e6019ec7da"
   },
   "outputs": [
    {
     "name": "stdout",
     "output_type": "stream",
     "text": [
      "Shape of X [N, C, H, W]: torch.Size([16, 1, 256, 44])\n",
      "Shape of y: torch.Size([16, 10]) torch.float32\n"
     ]
    }
   ],
   "source": [
    "for X, y, y_3class in train_dataloader:\n",
    "    print(f\"Shape of X [N, C, H, W]: {X.shape}\")\n",
    "    print(f\"Shape of y: {y.shape} {y.dtype}\")\n",
    "    break"
   ]
  },
  {
   "cell_type": "code",
   "execution_count": 19,
   "id": "2ef35b0b-ed58-428a-a5c6-b6e12dd8c2c4",
   "metadata": {
    "id": "2ef35b0b-ed58-428a-a5c6-b6e12dd8c2c4"
   },
   "outputs": [],
   "source": [
    "del train_X, train_y"
   ]
  },
  {
   "cell_type": "markdown",
   "id": "c080f2e3-030a-4d4e-bf42-2d0260b26282",
   "metadata": {
    "id": "c080f2e3-030a-4d4e-bf42-2d0260b26282"
   },
   "source": [
    "## Network"
   ]
  },
  {
   "cell_type": "code",
   "execution_count": 20,
   "id": "92516440-ba59-404e-986a-b2b3022b1e88",
   "metadata": {},
   "outputs": [],
   "source": [
    "n_output = label_list.shape[0] + 3\n",
    "n_hidden = 100\n",
    "\n",
    "class DSConvLayer(nn.Module):\n",
    "    def __init__(self, input, output):\n",
    "        super(DSConvLayer, self).__init__()\n",
    "        self.conv = nn.Conv2d(input, output, 1, stride=1, padding=0)\n",
    "        self.DWconv16 = nn.Conv2d(input, output, 3, groups=output, stride=1, padding=1)\n",
    "        self.relu = nn.ReLU()\n",
    "        self.bn = nn.BatchNorm2d(input, eps=1e-03, momentum=0.01)\n",
    "    def forward(self, x):\n",
    "        x = self.bn(x) \n",
    "        x = self.relu(x)\n",
    "        x = self.DWconv16(x)\n",
    "        x = self.conv(x)\n",
    "        return x\n",
    "    \n",
    "    \n",
    "class DSConvLayer2(nn.Module):\n",
    "    def __init__(self, input, output):\n",
    "        super(DSConvLayer2, self).__init__()\n",
    "        self.conv = nn.Conv2d(input, output, 1, stride=1, padding=0)\n",
    "        self.DWconv16 = nn.Conv2d(input, output, 3, groups=output, stride=1, padding=1)\n",
    "\n",
    "    def forward(self, x):\n",
    "        x = self.DWconv16(x)\n",
    "        x = self.conv(x)\n",
    "        return x\n",
    "\n",
    "    \n",
    "class Model(nn.Module):\n",
    "    def __init__(self, n_output, n_hidden):\n",
    "        super().__init__()\n",
    "        self.quant = torch.quantization.QuantStub()\n",
    "\n",
    "        self.conv1 = nn.Conv2d(2, 16, 5, stride=1, padding=2)\n",
    "        self.conv2 = DSConvLayer2(16,16)\n",
    "        self.conv3 = DSConvLayer(16,16)\n",
    "        self.conv4 = DSConvLayer2(16,16)\n",
    "        self.conv5 = DSConvLayer(16,16)\n",
    "        self.conv6 = nn.Conv2d(16, 16, 3, stride=1, padding=1)\n",
    "        self.conv7 = DSConvLayer(16,16)\n",
    "        self.conv8 = DSConvLayer(16,16)\n",
    "        self.conv9 = DSConvLayer(16,16)\n",
    "        self.conv10 = DSConvLayer(16,16)\n",
    "\n",
    "        self.bn = nn.BatchNorm2d(16, eps=1e-03, momentum=0.01)\n",
    "        self.relu = nn.ReLU()\n",
    "        self.dropout = nn.Dropout(p=0.3)\n",
    "        self.maxpool1 = nn.MaxPool2d((3,2))\n",
    "        self.maxpool2 = nn.MaxPool2d((6,4))\n",
    "        self.flatten = nn.Flatten()\n",
    "        self.l1 = nn.Linear(1120, n_hidden) \n",
    "        self.l2 = nn.Linear(n_hidden, n_output)\n",
    "        self.shortcut = nn.quantized.FloatFunctional()\n",
    "        self.dequant = torch.quantization.DeQuantStub()\n",
    "        \n",
    "    def forward(self, x):\n",
    "        x = self.quant(x)\n",
    "        out = self.relu(self.bn(self.conv1(x)))\n",
    "\n",
    "        x1 = self.conv2(out[:,:,:124,:])\n",
    "        x1 = self.conv3(x1)\n",
    "        x2 = self.conv4(out[:,:,124:,:])\n",
    "        x2 = self.conv5(x2)\n",
    "        x = torch.cat((x1, x2), dim=2)\n",
    "        x = self.dropout(self.maxpool1(x))\n",
    "\n",
    "        out = self.conv6(x)\n",
    "        x = self.conv7(out)\n",
    "        x = self.conv8(x)\n",
    "        out = self.shortcut.add(x, out)\n",
    "\n",
    "        x = self.conv9(out)\n",
    "        x = self.conv10(x)\n",
    "        x = self.shortcut.add(x, out)\n",
    "        \n",
    "        x = self.dropout(self.maxpool2(x))\n",
    "        x = self.flatten(x)\n",
    "        x = self.relu(self.l1(x))\n",
    "        x = self.dropout(x)\n",
    "        x = self.l2(x)\n",
    "        x = self.dequant(x)\n",
    "        return x\n",
    "\n",
    "model = Model(n_output, n_hidden)\n",
    "model.qconfig = torch.quantization.get_default_qat_qconfig(\"qnnpack\")"
   ]
  },
  {
   "cell_type": "code",
   "execution_count": 21,
   "id": "67c9a64b-5963-4231-98d3-f0d2f006d1f4",
   "metadata": {},
   "outputs": [
    {
     "name": "stdout",
     "output_type": "stream",
     "text": [
      "Model statistics:\n",
      "MACC:\t \t 26.607 M\n",
      "Params:\t \t 120.229 K\n",
      "\n"
     ]
    }
   ],
   "source": [
    "nessi.get_model_size(model, \"torch\", input_size = (1,2,X.shape[2],X.shape[3]))"
   ]
  },
  {
   "cell_type": "code",
   "execution_count": 22,
   "id": "32258e5a-b889-42b7-b9f1-09795e826370",
   "metadata": {
    "colab": {
     "base_uri": "https://localhost:8080/",
     "height": 175
    },
    "executionInfo": {
     "elapsed": 245,
     "status": "error",
     "timestamp": 1650698571494,
     "user": {
      "displayName": "菅原鈴子",
      "userId": "12440335609445143768"
     },
     "user_tz": -540
    },
    "id": "32258e5a-b889-42b7-b9f1-09795e826370",
    "outputId": "6e7bdc82-04ed-420a-a3af-881d5f2065d1"
   },
   "outputs": [
    {
     "data": {
      "text/plain": [
       "==========================================================================================\n",
       "Layer (type:depth-idx)                   Output Shape              Param #\n",
       "==========================================================================================\n",
       "Model                                    --                        --\n",
       "├─QuantStub: 1-1                         [1, 2, 256, 44]           --\n",
       "├─Conv2d: 1-2                            [1, 16, 256, 44]          816\n",
       "├─BatchNorm2d: 1-3                       [1, 16, 256, 44]          32\n",
       "├─ReLU: 1-4                              [1, 16, 256, 44]          --\n",
       "├─DSConvLayer2: 1-5                      [1, 16, 124, 44]          --\n",
       "│    └─Conv2d: 2-1                       [1, 16, 124, 44]          160\n",
       "│    └─Conv2d: 2-2                       [1, 16, 124, 44]          272\n",
       "├─DSConvLayer: 1-6                       [1, 16, 124, 44]          --\n",
       "│    └─BatchNorm2d: 2-3                  [1, 16, 124, 44]          32\n",
       "│    └─ReLU: 2-4                         [1, 16, 124, 44]          --\n",
       "│    └─Conv2d: 2-5                       [1, 16, 124, 44]          160\n",
       "│    └─Conv2d: 2-6                       [1, 16, 124, 44]          272\n",
       "├─DSConvLayer2: 1-7                      [1, 16, 132, 44]          --\n",
       "│    └─Conv2d: 2-7                       [1, 16, 132, 44]          160\n",
       "├─DSConvLayer: 1                         --                        --\n",
       "│    └─Conv2d: 2-8                       --                        (recursive)\n",
       "│    └─Conv2d: 2-9                       --                        (recursive)\n",
       "│    └─ReLU: 2-10                        --                        --\n",
       "│    └─BatchNorm2d: 2-11                 --                        (recursive)\n",
       "├─Conv2d: 1-8                            --                        (recursive)\n",
       "├─DSConvLayer: 1-9                       --                        (recursive)\n",
       "│    └─Conv2d: 2-12                      --                        (recursive)\n",
       "│    └─Conv2d: 2-13                      --                        (recursive)\n",
       "│    └─ReLU: 2-14                        --                        --\n",
       "│    └─BatchNorm2d: 2-15                 --                        (recursive)\n",
       "├─DSConvLayer: 1-10                      --                        (recursive)\n",
       "│    └─Conv2d: 2-16                      --                        (recursive)\n",
       "│    └─Conv2d: 2-17                      --                        (recursive)\n",
       "│    └─ReLU: 2-18                        --                        --\n",
       "│    └─BatchNorm2d: 2-19                 --                        (recursive)\n",
       "├─DSConvLayer: 1-11                      --                        (recursive)\n",
       "│    └─Conv2d: 2-20                      --                        (recursive)\n",
       "│    └─Conv2d: 2-21                      --                        (recursive)\n",
       "│    └─ReLU: 2-22                        --                        --\n",
       "│    └─BatchNorm2d: 2-23                 --                        (recursive)\n",
       "├─DSConvLayer: 1-12                      --                        (recursive)\n",
       "│    └─Conv2d: 2-24                      --                        (recursive)\n",
       "│    └─Conv2d: 2-25                      --                        (recursive)\n",
       "│    └─ReLU: 2-26                        --                        --\n",
       "│    └─BatchNorm2d: 2-27                 --                        (recursive)\n",
       "├─DSConvLayer2: 1                        --                        --\n",
       "│    └─Conv2d: 2-28                      [1, 16, 132, 44]          272\n",
       "├─DSConvLayer: 1-13                      [1, 16, 132, 44]          --\n",
       "│    └─BatchNorm2d: 2-29                 [1, 16, 132, 44]          32\n",
       "│    └─ReLU: 2-30                        [1, 16, 132, 44]          --\n",
       "│    └─Conv2d: 2-31                      [1, 16, 132, 44]          160\n",
       "│    └─Conv2d: 2-32                      [1, 16, 132, 44]          272\n",
       "├─MaxPool2d: 1-14                        [1, 16, 85, 22]           --\n",
       "├─Dropout: 1-15                          [1, 16, 85, 22]           --\n",
       "├─FloatFunctional: 1-16                  --                        --\n",
       "│    └─Identity: 2-33                    --                        --\n",
       "├─Conv2d: 1-17                           [1, 16, 85, 22]           2,320\n",
       "├─DSConvLayer: 1-18                      [1, 16, 85, 22]           --\n",
       "│    └─BatchNorm2d: 2-34                 [1, 16, 85, 22]           32\n",
       "│    └─ReLU: 2-35                        [1, 16, 85, 22]           --\n",
       "│    └─Conv2d: 2-36                      [1, 16, 85, 22]           160\n",
       "│    └─Conv2d: 2-37                      [1, 16, 85, 22]           272\n",
       "├─DSConvLayer: 1-19                      [1, 16, 85, 22]           --\n",
       "│    └─BatchNorm2d: 2-38                 [1, 16, 85, 22]           32\n",
       "│    └─ReLU: 2-39                        [1, 16, 85, 22]           --\n",
       "│    └─Conv2d: 2-40                      [1, 16, 85, 22]           160\n",
       "│    └─Conv2d: 2-41                      [1, 16, 85, 22]           272\n",
       "├─FloatFunctional: 1-16                  --                        --\n",
       "│    └─Identity: 2-42                    [1, 16, 85, 22]           --\n",
       "├─DSConvLayer: 1-20                      [1, 16, 85, 22]           --\n",
       "│    └─BatchNorm2d: 2-43                 [1, 16, 85, 22]           32\n",
       "│    └─ReLU: 2-44                        [1, 16, 85, 22]           --\n",
       "│    └─Conv2d: 2-45                      [1, 16, 85, 22]           160\n",
       "│    └─Conv2d: 2-46                      [1, 16, 85, 22]           272\n",
       "├─DSConvLayer: 1-21                      [1, 16, 85, 22]           --\n",
       "│    └─BatchNorm2d: 2-47                 [1, 16, 85, 22]           32\n",
       "│    └─ReLU: 2-48                        [1, 16, 85, 22]           --\n",
       "│    └─Conv2d: 2-49                      [1, 16, 85, 22]           160\n",
       "│    └─Conv2d: 2-50                      [1, 16, 85, 22]           272\n",
       "├─FloatFunctional: 1-16                  --                        --\n",
       "│    └─Identity: 2-51                    [1, 16, 85, 22]           --\n",
       "├─MaxPool2d: 1-22                        [1, 16, 14, 5]            --\n",
       "├─Dropout: 1-23                          [1, 16, 14, 5]            --\n",
       "├─Flatten: 1-24                          [1, 1120]                 --\n",
       "├─Linear: 1-25                           [1, 100]                  112,100\n",
       "├─ReLU: 1-26                             [1, 100]                  --\n",
       "├─Dropout: 1-27                          [1, 100]                  --\n",
       "├─Linear: 1-28                           [1, 13]                   1,313\n",
       "├─DeQuantStub: 1-29                      [1, 13]                   --\n",
       "==========================================================================================\n",
       "Total params: 120,229\n",
       "Trainable params: 120,229\n",
       "Non-trainable params: 0\n",
       "Total mult-adds (M): 26.61\n",
       "==========================================================================================\n",
       "Input size (MB): 0.09\n",
       "Forward/backward pass size (MB): 13.21\n",
       "Params size (MB): 0.48\n",
       "Estimated Total Size (MB): 13.78\n",
       "=========================================================================================="
      ]
     },
     "execution_count": 22,
     "metadata": {},
     "output_type": "execute_result"
    }
   ],
   "source": [
    "summary(model, input_size=(1, 2, X.shape[2], X.shape[3]), verbose=0)"
   ]
  },
  {
   "cell_type": "code",
   "execution_count": 23,
   "id": "7a02a512-de34-4c66-8370-6be30a44e073",
   "metadata": {
    "colab": {
     "base_uri": "https://localhost:8080/"
    },
    "executionInfo": {
     "elapsed": 4688,
     "status": "ok",
     "timestamp": 1650698691315,
     "user": {
      "displayName": "菅原鈴子",
      "userId": "12440335609445143768"
     },
     "user_tz": -540
    },
    "id": "7a02a512-de34-4c66-8370-6be30a44e073",
    "outputId": "0676915a-837a-44f0-e301-0e703a4bc530"
   },
   "outputs": [],
   "source": [
    "model.train()\n",
    "model = torch.quantization.prepare_qat(model).to(device)"
   ]
  },
  {
   "cell_type": "code",
   "execution_count": 24,
   "id": "5fbbd977-950e-415a-8920-32af6e78bb29",
   "metadata": {
    "executionInfo": {
     "elapsed": 8,
     "status": "ok",
     "timestamp": 1650698691317,
     "user": {
      "displayName": "菅原鈴子",
      "userId": "12440335609445143768"
     },
     "user_tz": -540
    },
    "id": "5fbbd977-950e-415a-8920-32af6e78bb29"
   },
   "outputs": [],
   "source": [
    "loss_fn = nn.CrossEntropyLoss(reduction=\"sum\")\n",
    "optimizer = torch.optim.RAdam(model.parameters(), lr=1e-3)\n",
    "scheduler = CosineLRScheduler(optimizer, t_initial=100, lr_min=1e-6, warmup_t=5, warmup_lr_init=5e-5, warmup_prefix=True)\n",
    "optimizer = PCGrad(optimizer)"
   ]
  },
  {
   "cell_type": "markdown",
   "id": "a7556966-7a25-4360-9ceb-1d6d53c1647e",
   "metadata": {},
   "source": [
    "# Augmentation"
   ]
  },
  {
   "cell_type": "code",
   "execution_count": 25,
   "id": "0e89b30a-f126-43dc-9963-c70289e24a36",
   "metadata": {},
   "outputs": [],
   "source": [
    "def core_mixup(X, y, ym, alpha=0.2, beta=0.2):\n",
    "\n",
    "    indices = torch.randperm(X.size(0)) \n",
    "    X2 = X[indices,:,:,:]\n",
    "    y2 = y[indices,:]\n",
    "    ym2 = ym[indices,:]\n",
    "\n",
    "    lam = torch.FloatTensor([np.random.beta(alpha, beta)])  # β分布を左右非対称にもできるようにした\n",
    "\n",
    "    X = lam*X + (1-lam)*X2  \n",
    "    y = lam*y + (1-lam)*y2\n",
    "    ym = lam*ym + (1-lam)*ym2\n",
    "    \n",
    "    return  X, y, ym\n",
    "\n",
    "\n",
    "def mixup(X, y, ym, epoch):\n",
    "    \n",
    "    if epoch < 60:\n",
    "        X, y, ym = core_mixup(X, y, ym)            \n",
    "    else:\n",
    "        X[:len(X)//2,:,:,:], y[:len(y)//2,:], ym[:len(ym)//2,:] = core_mixup(X[:len(X)//2,:,:,:], y[:len(y)//2,:], ym[:len(ym)//2,:])\n",
    "            \n",
    "    return X, y, ym\n",
    "\n",
    "#SpecAugment\n",
    "spec_augmenter = SpecAugmentation(\n",
    "            time_drop_width=2,\n",
    "            time_stripes_num=2,\n",
    "            freq_drop_width=2,\n",
    "            freq_stripes_num=2)"
   ]
  },
  {
   "cell_type": "code",
   "execution_count": 26,
   "id": "53d70dd7-1db4-4d84-b216-50f871ef591e",
   "metadata": {},
   "outputs": [
    {
     "data": {
      "text/html": [
       "<div>\n",
       "<style scoped>\n",
       "    .dataframe tbody tr th:only-of-type {\n",
       "        vertical-align: middle;\n",
       "    }\n",
       "\n",
       "    .dataframe tbody tr th {\n",
       "        vertical-align: top;\n",
       "    }\n",
       "\n",
       "    .dataframe thead th {\n",
       "        text-align: right;\n",
       "    }\n",
       "</style>\n",
       "<table border=\"1\" class=\"dataframe\">\n",
       "  <thead>\n",
       "    <tr style=\"text-align: right;\">\n",
       "      <th></th>\n",
       "      <th>filename</th>\n",
       "      <th>device_name</th>\n",
       "      <th>dif_freq</th>\n",
       "    </tr>\n",
       "  </thead>\n",
       "  <tbody>\n",
       "    <tr>\n",
       "      <th>0</th>\n",
       "      <td>audio/airport-lisbon-1000-40000-0-s3.wav</td>\n",
       "      <td>s3</td>\n",
       "      <td>[-2.9059536, -3.1832728, -3.2194438, -3.210605...</td>\n",
       "    </tr>\n",
       "    <tr>\n",
       "      <th>1</th>\n",
       "      <td>audio/airport-lisbon-1000-40000-1-s3.wav</td>\n",
       "      <td>s3</td>\n",
       "      <td>[-2.7815063, -2.9213529, -3.0552177, -3.053175...</td>\n",
       "    </tr>\n",
       "    <tr>\n",
       "      <th>2</th>\n",
       "      <td>audio/airport-lisbon-1000-40000-2-s3.wav</td>\n",
       "      <td>s3</td>\n",
       "      <td>[-2.8971777, -3.1116288, -3.3094707, -3.202556...</td>\n",
       "    </tr>\n",
       "    <tr>\n",
       "      <th>3</th>\n",
       "      <td>audio/airport-lisbon-1000-40000-3-s3.wav</td>\n",
       "      <td>s3</td>\n",
       "      <td>[-3.0583305, -3.0710726, -3.0896604, -3.183244...</td>\n",
       "    </tr>\n",
       "    <tr>\n",
       "      <th>4</th>\n",
       "      <td>audio/airport-lisbon-1000-40000-4-s3.wav</td>\n",
       "      <td>s3</td>\n",
       "      <td>[-2.6388025, -2.9723158, -3.1361861, -3.123651...</td>\n",
       "    </tr>\n",
       "  </tbody>\n",
       "</table>\n",
       "</div>"
      ],
      "text/plain": [
       "                                   filename device_name  \\\n",
       "0  audio/airport-lisbon-1000-40000-0-s3.wav          s3   \n",
       "1  audio/airport-lisbon-1000-40000-1-s3.wav          s3   \n",
       "2  audio/airport-lisbon-1000-40000-2-s3.wav          s3   \n",
       "3  audio/airport-lisbon-1000-40000-3-s3.wav          s3   \n",
       "4  audio/airport-lisbon-1000-40000-4-s3.wav          s3   \n",
       "\n",
       "                                            dif_freq  \n",
       "0  [-2.9059536, -3.1832728, -3.2194438, -3.210605...  \n",
       "1  [-2.7815063, -2.9213529, -3.0552177, -3.053175...  \n",
       "2  [-2.8971777, -3.1116288, -3.3094707, -3.202556...  \n",
       "3  [-3.0583305, -3.0710726, -3.0896604, -3.183244...  \n",
       "4  [-2.6388025, -2.9723158, -3.1361861, -3.123651...  "
      ]
     },
     "metadata": {},
     "output_type": "display_data"
    },
    {
     "data": {
      "image/png": "[encoded data removed]",
      "text/plain": [
       "<Figure size 432x288 with 2 Axes>"
      ]
     },
     "metadata": {
      "needs_background": "light"
     },
     "output_type": "display_data"
    },
    {
     "data": {
      "image/png": "[encoded data removed]",
      "text/plain": [
       "<Figure size 432x288 with 2 Axes>"
      ]
     },
     "metadata": {
      "needs_background": "light"
     },
     "output_type": "display_data"
    },
    {
     "name": "stdout",
     "output_type": "stream",
     "text": [
      "tensor([0., 1., 0.])\n",
      "Shape of X [N, C, H, W]: torch.Size([16, 1, 256, 44])\n",
      "Shape of y: torch.Size([16, 10]) torch.float32\n"
     ]
    }
   ],
   "source": [
    "if conf.DIFF_FREQ:\n",
    "    diff_freq_list = pd.read_pickle(f\"reuse/{conf.reusefolder}diff_freq.pkl\") \n",
    "    if conf.include_val:\n",
    "        diff_freq_list_val = pd.read_pickle(f\"reuse/{conf.reusefolder}diff_freq_val.pkl\") \n",
    "        diff_freq_list = pd.concat([diff_freq_list, diff_freq_list_val])\n",
    "    display(diff_freq_list.head())\n",
    "\n",
    "    dif_devices_train_list = [\n",
    "            \"b\",\n",
    "            \"c\",\n",
    "            \"s1\",\n",
    "            \"s2\",\n",
    "            \"s3\",\n",
    "        ]\n",
    "\n",
    "    diff_freq_power = torch.from_numpy(np.stack(diff_freq_list[\"dif_freq\"].values).astype(np.float32)).clone()\n",
    "    \n",
    "def apply_diff_freq(X, diff_freq_power, devices_no):\n",
    "    if random.randrange(0, 13, 1) != 0: # 1/13skip\n",
    "        for idx, (X_temp, device_no) in enumerate(zip(X, devices_no)):\n",
    "            tmp = (device_no==0)*diff_freq_power[random.randrange(0, len(diff_freq_power), 1),:].unsqueeze(0).unsqueeze(2)\n",
    "            tmp = torch.from_numpy(np.dot(torch.ones((X.shape[3],1)), tmp[:,:,0])).clone()\n",
    "            X[idx,0,:,:] = X_temp[0,:,:] + tmp.T\n",
    "\n",
    "    return X\n",
    "\n",
    "#Check the effect\n",
    "for X, y, devices_no in train_dataloader:\n",
    "    X, y = X.to(\"cpu\"), y.to(\"cpu\")\n",
    "    X_ori = normalize_std(X)\n",
    "    plot_spectrogram(X_ori[0,0,:,:])\n",
    "    X = apply_diff_freq(X, diff_freq_power, devices_no)\n",
    "    X = normalize_std(X)\n",
    "    plot_spectrogram((X[0,0,:,:]))\n",
    "    print(devices_no[0])\n",
    "    print(f\"Shape of X [N, C, H, W]: {X.shape}\")\n",
    "    print(f\"Shape of y: {y.shape} {y.dtype}\")\n",
    "    break"
   ]
  },
  {
   "cell_type": "markdown",
   "id": "d13f24dd-0de6-4a7e-a725-4db0faf4c66e",
   "metadata": {
    "id": "d13f24dd-0de6-4a7e-a725-4db0faf4c66e"
   },
   "source": [
    "## Train loop"
   ]
  },
  {
   "cell_type": "code",
   "execution_count": 27,
   "id": "4e4121d5-b3bd-4669-8b2d-fcec1a004583",
   "metadata": {
    "id": "4e4121d5-b3bd-4669-8b2d-fcec1a004583"
   },
   "outputs": [],
   "source": [
    "def train(dataloader, model, loss_fn, optimizer, t):\n",
    "    size = len(dataloader.dataset)\n",
    "    train_loss = 0\n",
    "    n_train = 0\n",
    "    correct = 0\n",
    "    model.train()\n",
    "\n",
    "    for batch, (X, y, y_3class) in enumerate(dataloader):\n",
    "        \n",
    "        if conf.MIXUP:\n",
    "            X, y, y_3class = mixup(X, y, y_3class, t)\n",
    "        if conf.DIFF_FREQ:\n",
    "            X = apply_diff_freq(X, diff_freq_power, devices_no)\n",
    "            \n",
    "        X = normalize_std(X)  \n",
    "        X2 = ComputeDeltas(X)\n",
    "        X2 = normalize_std(X2)   \n",
    "        X = torch.cat((X,X2),1)\n",
    "        \n",
    "        if conf.SPEC_AUG:\n",
    "            X = spec_augmenter(X)\n",
    "        X, y, y_3class = X.to(device), y.to(device), y_3class.to(device)\n",
    "\n",
    "        # Compute prediction error\n",
    "        pred = model(X)\n",
    "        loss, loss_3class = loss_fn(pred[:,:-3], y), loss_fn(pred[:,-3:], y_3class)\n",
    "\n",
    "        # Backpropagation\n",
    "        optimizer.zero_grad()\n",
    "        optimizer.pc_backward([loss, loss_3class]) \n",
    "        optimizer.step()\n",
    "        scheduler.step(t+1)\n",
    "        train_loss += loss.item()\n",
    "        \n",
    "        _, predicted = torch.max(pred[:,:-3].detach(), 1)\n",
    "        _, y_predicted = torch.max(y.detach(), 1)\n",
    "        correct += (predicted == y_predicted).sum().item()\n",
    "        \n",
    "        n_train += len(X)\n",
    "        if batch % 500 == 0:\n",
    "            loss_current, acc_current, current = train_loss/n_train, correct/n_train, batch * len(X)\n",
    "            print(f\"Train Epoch: {t+1} loss: {loss_current:>7f}  accuracy: {acc_current:>7f} [{current:>5d}/{size:>5d}]\")\n",
    "    \n",
    "    loss_current, acc_current = train_loss/n_train, correct/n_train   \n",
    "    return loss_current, acc_current"
   ]
  },
  {
   "cell_type": "code",
   "execution_count": 28,
   "id": "a8dbbe12-d235-490d-9152-4f9fc0ea6adc",
   "metadata": {
    "id": "a8dbbe12-d235-490d-9152-4f9fc0ea6adc"
   },
   "outputs": [],
   "source": [
    "def val(dataloader, model, loss_fn):\n",
    "    size = len(dataloader.dataset)\n",
    "    val_loss = 0\n",
    "    n_val = 0\n",
    "    correct = 0\n",
    "    model.eval()\n",
    "    with torch.no_grad():        \n",
    "        for batch, (X, y, y_3class) in enumerate(dataloader):\n",
    "\n",
    "            X, y, y_3class = X.to(device), y.to(device), y_3class.to(device)\n",
    "            \n",
    "            pred = model(X)\n",
    "            loss, loss_3class = loss_fn(pred[:,:-3], y), loss_fn(pred[:,-3:], y_3class)\n",
    "\n",
    "            val_loss += loss.item()\n",
    "            \n",
    "            _, predicted = torch.max(pred[:,:-3].detach(), 1)\n",
    "            _, y_predicted = torch.max(y.detach(), 1)\n",
    "            correct += (predicted == y_predicted).sum().item()\n",
    "            \n",
    "            n_val += len(X)\n",
    "            if batch % 500 == 0:\n",
    "                loss_current, acc_current, current = val_loss/n_val, correct/n_val, batch*len(X)\n",
    "                print(f\"Val Epoch: {t+1} loss: {loss_current:>7f}  accuracy: {acc_current:>7f} [{current:>5d}/{size:>5d}]\")\n",
    "                \n",
    "    loss_current, acc_current = val_loss/n_val, correct/n_val\n",
    "    return loss_current, acc_current"
   ]
  },
  {
   "cell_type": "code",
   "execution_count": 29,
   "id": "70ff3bf0-a95b-433a-b271-e702b639764b",
   "metadata": {
    "id": "70ff3bf0-a95b-433a-b271-e702b639764b",
    "outputId": "e7ea8f12-2ca3-4a1d-855a-75d53733575f"
   },
   "outputs": [
    {
     "data": {
      "image/png": "[encoded data removed]",
      "text/plain": [
       "<Figure size 864x576 with 2 Axes>"
      ]
     },
     "metadata": {
      "needs_background": "light"
     },
     "output_type": "display_data"
    },
    {
     "name": "stdout",
     "output_type": "stream",
     "text": [
      "Accuracy\n",
      "\ttraining         \t (min:    0.308, max:    0.644, cur:    0.643)\n",
      "\tvalidation       \t (min:    0.365, max:    0.572, cur:    0.560)\n",
      "log loss\n",
      "\ttraining         \t (min:    1.070, max:    1.912, cur:    1.070)\n",
      "\tvalidation       \t (min:    1.222, max:    1.691, cur:    1.248)\n"
     ]
    }
   ],
   "source": [
    "liveloss = PlotLosses()\n",
    "min_loss = 5\n",
    "for t in range(conf.epochs):\n",
    "    logs = {}\n",
    "    train_loss, train_acc = train(train_dataloader, model, loss_fn, optimizer, t)\n",
    "    val_loss, val_acc = val(val_dataloader, model, loss_fn)\n",
    "    logs[\"log loss\"] = train_loss\n",
    "    logs[\"val_log loss\"] = val_loss\n",
    "    logs[\"acc\"] = train_acc\n",
    "    logs[\"val_acc\"] = val_acc\n",
    "    liveloss.update(logs)\n",
    "    liveloss.send()\n",
    "    \n",
    "    if min_loss > val_loss:\n",
    "        min_loss = val_loss\n",
    "        torch.save(copy.deepcopy(model).state_dict(), \"model/model_min.pt\")\n",
    "\n",
    "torch.save(copy.deepcopy(model).state_dict(), \"model/model.pt\")"
   ]
  },
  {
   "cell_type": "code",
   "execution_count": 30,
   "id": "4b38b0f3-018c-45be-9d3b-6580460221b5",
   "metadata": {
    "executionInfo": {
     "elapsed": 3,
     "status": "ok",
     "timestamp": 1650698695111,
     "user": {
      "displayName": "菅原鈴子",
      "userId": "12440335609445143768"
     },
     "user_tz": -540
    },
    "id": "4b38b0f3-018c-45be-9d3b-6580460221b5"
   },
   "outputs": [],
   "source": [
    "# loading model\n",
    "model.load_state_dict(torch.load(\"model/model_min.pt\"))\n",
    "model = model.to(\"cpu\")"
   ]
  },
  {
   "cell_type": "code",
   "execution_count": 31,
   "id": "bb949fdf-3bb8-4bf5-ae36-e585d0bef897",
   "metadata": {
    "executionInfo": {
     "elapsed": 409,
     "status": "ok",
     "timestamp": 1650698700200,
     "user": {
      "displayName": "菅原鈴子",
      "userId": "12440335609445143768"
     },
     "user_tz": -540
    },
    "id": "bb949fdf-3bb8-4bf5-ae36-e585d0bef897"
   },
   "outputs": [],
   "source": [
    "model_int8 = torch.quantization.convert(model)"
   ]
  },
  {
   "cell_type": "markdown",
   "id": "477027da-5079-4755-ba4c-f0485e38b9c4",
   "metadata": {
    "id": "477027da-5079-4755-ba4c-f0485e38b9c4"
   },
   "source": [
    "## Results"
   ]
  },
  {
   "cell_type": "code",
   "execution_count": 32,
   "id": "52f315ca-12e6-4013-81c3-e570f0fbcb70",
   "metadata": {
    "colab": {
     "base_uri": "https://localhost:8080/",
     "height": 175
    },
    "executionInfo": {
     "elapsed": 497,
     "status": "error",
     "timestamp": 1650698704684,
     "user": {
      "displayName": "菅原鈴子",
      "userId": "12440335609445143768"
     },
     "user_tz": -540
    },
    "id": "52f315ca-12e6-4013-81c3-e570f0fbcb70",
    "outputId": "3161ca45-51da-4cfc-eabc-2292dba95656"
   },
   "outputs": [],
   "source": [
    "batch_size = 1\n",
    "val_result_dataloader = DataLoader(val_dataset, batch_size=batch_size, shuffle=False, num_workers=0)\n",
    "loss_fn_inference = nn.CrossEntropyLoss(reduction=\"none\")"
   ]
  },
  {
   "cell_type": "code",
   "execution_count": 33,
   "id": "9d4cb30b-bb1f-4dff-bced-8edc16fb6b2d",
   "metadata": {},
   "outputs": [],
   "source": [
    "def inference(dataloader, model, loss_fn, device):\n",
    "    loss_all = []\n",
    "    predicted_all = []\n",
    "    predicted_all_3class = []\n",
    "\n",
    "    model.eval()\n",
    "    with torch.no_grad():        \n",
    "        for batch, (X, y, y_3class) in enumerate(dataloader):\n",
    "            X, y, y_3class = X.to(device), y.to(device), y_3class.to(device)\n",
    "\n",
    "            pred = model(X)\n",
    "            pred_multi = multi_for_label(pred[:,-3:]) #3class to 10class\n",
    "            pred[:,:-3] = (pred[:,:-3]*conf.mix_rate + pred_multi*(1-conf.mix_rate))\n",
    "            loss = loss_fn(pred[:,:-3], y)\n",
    "\n",
    "            _, predicted = torch.max(pred[:,:-3].detach(), 1)\n",
    "            _, predicted_3class = torch.max(pred[:,-3:].detach(), 1)\n",
    "            \n",
    "            loss_all.append(loss)\n",
    "            predicted_all.append(predicted)\n",
    "            predicted_all_3class.append(predicted_3class)\n",
    "\n",
    "    return torch.flatten(torch.stack(loss_all)).numpy(), torch.flatten(torch.stack(predicted_all)).numpy(), torch.flatten(torch.stack(predicted_all_3class)).numpy()\n",
    "\n",
    "\n",
    "def multi_for_label(y):\n",
    "    multi_y = np.zeros((y.shape[0],10))\n",
    "    for i in range(y.shape[0]):\n",
    "        multi_y[i,0] = y[i,0] #Indoor \n",
    "        multi_y[i,3] = y[i,0] #Indoor\n",
    "        multi_y[i,6] = y[i,0] #Indoor\n",
    "        multi_y[i,4] = y[i,1] #Outdoor\n",
    "        multi_y[i,5] = y[i,1] #Outdoor\n",
    "        multi_y[i,7] = y[i,1] #Outdoor\n",
    "        multi_y[i,8] = y[i,1] #Outdoor\n",
    "        multi_y[i,1] = y[i,2] #Trans\n",
    "        multi_y[i,2] = y[i,2] #Trans\n",
    "        multi_y[i,9] = y[i,2] #Trans\n",
    "    return multi_y"
   ]
  },
  {
   "cell_type": "code",
   "execution_count": 34,
   "id": "dc8aacad-84bc-412f-a1aa-1f73c9c6b708",
   "metadata": {
    "id": "dc8aacad-84bc-412f-a1aa-1f73c9c6b708"
   },
   "outputs": [],
   "source": [
    "loss_all, predicted_all, predicted_all_3class = inference(val_result_dataloader, model_int8, loss_fn_inference, \"cpu\")"
   ]
  },
  {
   "cell_type": "code",
   "execution_count": 35,
   "id": "b9dc3e2d-620b-40ad-9826-b20dad41b366",
   "metadata": {},
   "outputs": [
    {
     "name": "stdout",
     "output_type": "stream",
     "text": [
      "0.8236859838274933\n"
     ]
    }
   ],
   "source": [
    "val_y_3class_arg = torch.argmax(val_y_3class,1)\n",
    "correct = 0\n",
    "for i in range(len(val_y_3class_arg)):\n",
    "    if predicted_all_3class[i] == val_y_3class_arg[i]:\n",
    "        correct += 1\n",
    "acc_3class = correct / len(val_y_3class_arg)\n",
    "print(acc_3class) #accracy of 3class"
   ]
  },
  {
   "cell_type": "code",
   "execution_count": 36,
   "id": "9d48470e-a794-4532-8495-97cdfc9a6fe8",
   "metadata": {},
   "outputs": [
    {
     "data": {
      "text/html": [
       "<div>\n",
       "<style scoped>\n",
       "    .dataframe tbody tr th:only-of-type {\n",
       "        vertical-align: middle;\n",
       "    }\n",
       "\n",
       "    .dataframe tbody tr th {\n",
       "        vertical-align: top;\n",
       "    }\n",
       "\n",
       "    .dataframe thead th {\n",
       "        text-align: right;\n",
       "    }\n",
       "</style>\n",
       "<table border=\"1\" class=\"dataframe\">\n",
       "  <thead>\n",
       "    <tr style=\"text-align: right;\">\n",
       "      <th></th>\n",
       "      <th>Log Loss</th>\n",
       "      <th>a</th>\n",
       "      <th>b</th>\n",
       "      <th>c</th>\n",
       "      <th>s1</th>\n",
       "      <th>s2</th>\n",
       "      <th>s3</th>\n",
       "      <th>s4</th>\n",
       "      <th>s5</th>\n",
       "      <th>s6</th>\n",
       "      <th>Accuracy %</th>\n",
       "    </tr>\n",
       "  </thead>\n",
       "  <tbody>\n",
       "    <tr>\n",
       "      <th>airport</th>\n",
       "      <td>1.324619</td>\n",
       "      <td>0.970355</td>\n",
       "      <td>1.253229</td>\n",
       "      <td>1.069484</td>\n",
       "      <td>1.332220</td>\n",
       "      <td>1.343202</td>\n",
       "      <td>1.282956</td>\n",
       "      <td>1.679348</td>\n",
       "      <td>1.648955</td>\n",
       "      <td>1.339660</td>\n",
       "      <td>45.709461</td>\n",
       "    </tr>\n",
       "    <tr>\n",
       "      <th>bus</th>\n",
       "      <td>0.849695</td>\n",
       "      <td>0.320410</td>\n",
       "      <td>1.208493</td>\n",
       "      <td>0.678004</td>\n",
       "      <td>0.933153</td>\n",
       "      <td>0.727905</td>\n",
       "      <td>0.706367</td>\n",
       "      <td>1.081221</td>\n",
       "      <td>1.063730</td>\n",
       "      <td>0.927972</td>\n",
       "      <td>71.515152</td>\n",
       "    </tr>\n",
       "    <tr>\n",
       "      <th>metro</th>\n",
       "      <td>1.305596</td>\n",
       "      <td>0.999226</td>\n",
       "      <td>1.372377</td>\n",
       "      <td>1.197043</td>\n",
       "      <td>1.442002</td>\n",
       "      <td>1.340383</td>\n",
       "      <td>1.247298</td>\n",
       "      <td>1.202679</td>\n",
       "      <td>1.610143</td>\n",
       "      <td>1.339212</td>\n",
       "      <td>49.090908</td>\n",
       "    </tr>\n",
       "    <tr>\n",
       "      <th>metro_station</th>\n",
       "      <td>1.320014</td>\n",
       "      <td>1.241433</td>\n",
       "      <td>1.513937</td>\n",
       "      <td>1.667856</td>\n",
       "      <td>1.362857</td>\n",
       "      <td>1.229750</td>\n",
       "      <td>1.169457</td>\n",
       "      <td>1.472500</td>\n",
       "      <td>1.233639</td>\n",
       "      <td>0.988695</td>\n",
       "      <td>51.986526</td>\n",
       "    </tr>\n",
       "    <tr>\n",
       "      <th>park</th>\n",
       "      <td>0.544018</td>\n",
       "      <td>0.377913</td>\n",
       "      <td>0.278481</td>\n",
       "      <td>0.404143</td>\n",
       "      <td>0.616953</td>\n",
       "      <td>0.581815</td>\n",
       "      <td>0.516898</td>\n",
       "      <td>0.649908</td>\n",
       "      <td>0.632341</td>\n",
       "      <td>0.837706</td>\n",
       "      <td>83.232323</td>\n",
       "    </tr>\n",
       "    <tr>\n",
       "      <th>public_square</th>\n",
       "      <td>1.597654</td>\n",
       "      <td>1.214541</td>\n",
       "      <td>1.873027</td>\n",
       "      <td>1.309855</td>\n",
       "      <td>1.407488</td>\n",
       "      <td>1.426535</td>\n",
       "      <td>1.391706</td>\n",
       "      <td>1.560295</td>\n",
       "      <td>1.749421</td>\n",
       "      <td>2.446012</td>\n",
       "      <td>43.973061</td>\n",
       "    </tr>\n",
       "    <tr>\n",
       "      <th>shopping_mall</th>\n",
       "      <td>1.019351</td>\n",
       "      <td>0.879755</td>\n",
       "      <td>0.838999</td>\n",
       "      <td>1.080366</td>\n",
       "      <td>0.944386</td>\n",
       "      <td>0.837632</td>\n",
       "      <td>1.030429</td>\n",
       "      <td>1.373014</td>\n",
       "      <td>0.993871</td>\n",
       "      <td>1.195711</td>\n",
       "      <td>64.713799</td>\n",
       "    </tr>\n",
       "    <tr>\n",
       "      <th>street_pedestrian</th>\n",
       "      <td>2.043329</td>\n",
       "      <td>1.760080</td>\n",
       "      <td>2.032274</td>\n",
       "      <td>1.967679</td>\n",
       "      <td>1.841905</td>\n",
       "      <td>1.785488</td>\n",
       "      <td>1.831103</td>\n",
       "      <td>2.302661</td>\n",
       "      <td>2.332065</td>\n",
       "      <td>2.536702</td>\n",
       "      <td>28.888887</td>\n",
       "    </tr>\n",
       "    <tr>\n",
       "      <th>street_traffic</th>\n",
       "      <td>0.626193</td>\n",
       "      <td>0.488266</td>\n",
       "      <td>0.730032</td>\n",
       "      <td>0.681506</td>\n",
       "      <td>0.606262</td>\n",
       "      <td>0.563792</td>\n",
       "      <td>0.658297</td>\n",
       "      <td>0.491804</td>\n",
       "      <td>0.412107</td>\n",
       "      <td>1.003673</td>\n",
       "      <td>77.373734</td>\n",
       "    </tr>\n",
       "    <tr>\n",
       "      <th>tram</th>\n",
       "      <td>1.320484</td>\n",
       "      <td>0.955783</td>\n",
       "      <td>1.311266</td>\n",
       "      <td>1.180768</td>\n",
       "      <td>1.055040</td>\n",
       "      <td>1.346157</td>\n",
       "      <td>1.022433</td>\n",
       "      <td>1.752630</td>\n",
       "      <td>1.547811</td>\n",
       "      <td>1.708231</td>\n",
       "      <td>55.675678</td>\n",
       "    </tr>\n",
       "    <tr>\n",
       "      <th>Ovberall</th>\n",
       "      <td>1.195009</td>\n",
       "      <td>0.920776</td>\n",
       "      <td>1.241175</td>\n",
       "      <td>1.123497</td>\n",
       "      <td>1.154227</td>\n",
       "      <td>1.118266</td>\n",
       "      <td>1.085694</td>\n",
       "      <td>1.356606</td>\n",
       "      <td>1.322408</td>\n",
       "      <td>1.432357</td>\n",
       "      <td>57.220350</td>\n",
       "    </tr>\n",
       "  </tbody>\n",
       "</table>\n",
       "</div>"
      ],
      "text/plain": [
       "                   Log Loss         a         b         c        s1        s2  \\\n",
       "airport            1.324619  0.970355  1.253229  1.069484  1.332220  1.343202   \n",
       "bus                0.849695  0.320410  1.208493  0.678004  0.933153  0.727905   \n",
       "metro              1.305596  0.999226  1.372377  1.197043  1.442002  1.340383   \n",
       "metro_station      1.320014  1.241433  1.513937  1.667856  1.362857  1.229750   \n",
       "park               0.544018  0.377913  0.278481  0.404143  0.616953  0.581815   \n",
       "public_square      1.597654  1.214541  1.873027  1.309855  1.407488  1.426535   \n",
       "shopping_mall      1.019351  0.879755  0.838999  1.080366  0.944386  0.837632   \n",
       "street_pedestrian  2.043329  1.760080  2.032274  1.967679  1.841905  1.785488   \n",
       "street_traffic     0.626193  0.488266  0.730032  0.681506  0.606262  0.563792   \n",
       "tram               1.320484  0.955783  1.311266  1.180768  1.055040  1.346157   \n",
       "Ovberall           1.195009  0.920776  1.241175  1.123497  1.154227  1.118266   \n",
       "\n",
       "                         s3        s4        s5        s6  Accuracy %  \n",
       "airport            1.282956  1.679348  1.648955  1.339660   45.709461  \n",
       "bus                0.706367  1.081221  1.063730  0.927972   71.515152  \n",
       "metro              1.247298  1.202679  1.610143  1.339212   49.090908  \n",
       "metro_station      1.169457  1.472500  1.233639  0.988695   51.986526  \n",
       "park               0.516898  0.649908  0.632341  0.837706   83.232323  \n",
       "public_square      1.391706  1.560295  1.749421  2.446012   43.973061  \n",
       "shopping_mall      1.030429  1.373014  0.993871  1.195711   64.713799  \n",
       "street_pedestrian  1.831103  2.302661  2.332065  2.536702   28.888887  \n",
       "street_traffic     0.658297  0.491804  0.412107  1.003673   77.373734  \n",
       "tram               1.022433  1.752630  1.547811  1.708231   55.675678  \n",
       "Ovberall           1.085694  1.356606  1.322408  1.432357   57.220350  "
      ]
     },
     "metadata": {},
     "output_type": "display_data"
    },
    {
     "data": {
      "image/png": "[encoded data removed]",
      "text/plain": [
       "<Figure size 720x720 with 1 Axes>"
      ]
     },
     "metadata": {
      "needs_background": "light"
     },
     "output_type": "display_data"
    }
   ],
   "source": [
    "plot_device_wise_log_losses(loss_all, predicted_all, val_y, val_devices, devices)\n",
    "plot_confusion_matrix(torch.argmax(val_y.detach(), 1), predicted_all)"
   ]
  }
 ],
 "metadata": {
  "accelerator": "GPU",
  "colab": {
   "collapsed_sections": [],
   "machine_shape": "hm",
   "name": "Baseline_DCASE2022_RION.ipynb",
   "provenance": []
  },
  "kernelspec": {
   "display_name": "Python 3 (ipykernel)",
   "language": "python",
   "name": "python3"
  },
  "language_info": {
   "codemirror_mode": {
    "name": "ipython",
    "version": 3
   },
   "file_extension": ".py",
   "mimetype": "text/x-python",
   "name": "python",
   "nbconvert_exporter": "python",
   "pygments_lexer": "ipython3",
   "version": "3.8.10"
  }
 },
 "nbformat": 4,
 "nbformat_minor": 5
}
